{
 "cells": [
  {
   "cell_type": "code",
   "execution_count": 18,
   "metadata": {},
   "outputs": [],
   "source": [
    "import requests"
   ]
  },
  {
   "cell_type": "code",
   "execution_count": 17,
   "metadata": {},
   "outputs": [
    {
     "data": {
      "text/plain": [
       "{'detail': [{'type': 'value_error',\n",
       "   'loc': ['body', 'file'],\n",
       "   'msg': \"Value error, Expected UploadFile, received: <class 'str'>\",\n",
       "   'input': '/Users/thomasverpoort/code/MahautHDL/save_the_crops/raw_data/Cashew anthracnose/anthracnose2_.jpg',\n",
       "   'ctx': {'error': {}},\n",
       "   'url': 'https://errors.pydantic.dev/2.6/v/value_error'}]}"
      ]
     },
     "execution_count": 17,
     "metadata": {},
     "output_type": "execute_result"
    }
   ],
   "source": [
    "'''url = 'http://localhost:8000/upload/'\n",
    "params = {'file' : '/Users/thomasverpoort/code/MahautHDL/save_the_crops/raw_data/Cashew anthracnose/anthracnose2_.jpg'}\n",
    "response = requests.post(url,params)\n",
    "response.json()'''"
   ]
  },
  {
   "cell_type": "code",
   "execution_count": 21,
   "metadata": {},
   "outputs": [
    {
     "name": "stdout",
     "output_type": "stream",
     "text": [
      "{'filename': 'anthracnose2_.jpg'}\n"
     ]
    }
   ],
   "source": [
    "url = 'http://localhost:8000/upload/'\n",
    "\n",
    "with open('/Users/thomasverpoort/code/MahautHDL/save_the_crops/raw_data/Cashew anthracnose/anthracnose2_.jpg', 'rb') as file:\n",
    "    files = {'file': ('anthracnose2_.jpg', file)}\n",
    "\n",
    "    # Send the POST request with the file\n",
    "    response = requests.post(url, files=files)\n",
    "\n",
    "print(response.json())"
   ]
  },
  {
   "cell_type": "code",
   "execution_count": null,
   "metadata": {},
   "outputs": [],
   "source": []
  }
 ],
 "metadata": {
  "kernelspec": {
   "display_name": "croply",
   "language": "python",
   "name": "python3"
  },
  "language_info": {
   "codemirror_mode": {
    "name": "ipython",
    "version": 3
   },
   "file_extension": ".py",
   "mimetype": "text/x-python",
   "name": "python",
   "nbconvert_exporter": "python",
   "pygments_lexer": "ipython3",
   "version": "3.10.6"
  }
 },
 "nbformat": 4,
 "nbformat_minor": 2
}
