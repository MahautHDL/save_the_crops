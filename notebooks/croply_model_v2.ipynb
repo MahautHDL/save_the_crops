{
  "cells": [
    {
      "cell_type": "code",
      "execution_count": 29,
      "metadata": {},
      "outputs": [],
      "source": [
        "import os\n",
        "import glob\n",
        "import numpy as np\n",
        "import pandas as pd\n",
        "import seaborn as sns\n",
        "import tensorflow as tf\n",
        "import matplotlib.pyplot as plt\n",
        "\n",
        "from sklearn.model_selection import train_test_split\n",
        "from sklearn.preprocessing import LabelEncoder\n",
        "from tensorflow.keras.utils import to_categorical"
      ]
    },
    {
      "cell_type": "code",
      "execution_count": 11,
      "metadata": {},
      "outputs": [
        {
          "data": {
            "text/plain": [
              "['Cassava green mite', 'Cassava brown spot', 'Cassava mosaic']"
            ]
          },
          "execution_count": 11,
          "metadata": {},
          "output_type": "execute_result"
        }
      ],
      "source": [
        "sub_link = os.environ.get(\"LOCAL_SUB_PATH\")\n",
        "sub_categories = os.listdir(sub_link)\n",
        "sub_categories"
      ]
    },
    {
      "cell_type": "code",
      "execution_count": 12,
      "metadata": {},
      "outputs": [],
      "source": [
        "def load_images_with_tensorflow(base_directory, sub_categories):\n",
        "    images = []\n",
        "    labels = []\n",
        "\n",
        "    for label in sub_categories:\n",
        "        directory = os.path.join(base_directory, label)\n",
        "        for filename in os.listdir(directory):\n",
        "            if filename.endswith(\".jpg\") or filename.endswith(\".png\"):\n",
        "                file_path = os.path.join(directory, filename)\n",
        "                # load image with TensorFlow\n",
        "                img = tf.io.read_file(file_path)\n",
        "                img = tf.image.decode_image(img, channels=3)  # convert to tensor and define 3 colors\n",
        "                img = tf.image.resize(img, [256, 256])\n",
        "\n",
        "                images.append(img)\n",
        "                labels.append(label)\n",
        "\n",
        "    return images, labels\n"
      ]
    },
    {
      "cell_type": "code",
      "execution_count": 13,
      "metadata": {},
      "outputs": [],
      "source": [
        "images, labels = load_images_with_tensorflow(sub_link, sub_categories)"
      ]
    },
    {
      "cell_type": "code",
      "execution_count": 34,
      "metadata": {},
      "outputs": [],
      "source": [
        "label_encoder = LabelEncoder()\n",
        "labels_numeric = label_encoder.fit_transform(labels)\n",
        "labels_one_hot = to_categorical(labels_numeric)\n",
        "\n",
        "images_array = np.array(images)  # Convertir la liste en un array NumPy\n",
        "images_normalized = images_array / 255.0"
      ]
    },
    {
      "cell_type": "code",
      "execution_count": 35,
      "metadata": {},
      "outputs": [],
      "source": [
        "# SPLIT DATA INTO TRAIN AND TESTING SET\n",
        "X_train, X_test, y_train, y_test = train_test_split(images_normalized, labels_one_hot, test_size=0.2, random_state=42)"
      ]
    },
    {
      "cell_type": "markdown",
      "metadata": {},
      "source": []
    },
    {
      "cell_type": "markdown",
      "metadata": {},
      "source": [
        "# Model initialization"
      ]
    },
    {
      "cell_type": "code",
      "execution_count": 37,
      "metadata": {
        "id": "Me5rjBTyomy-"
      },
      "outputs": [],
      "source": [
        "from tensorflow.keras import layers\n",
        "from tensorflow.keras import models\n",
        "\n",
        "def initialize_model():\n",
        "    model = models.Sequential()\n",
        "\n",
        "    ### First Convolution & MaxPooling\n",
        "    model.add(layers.Conv2D(32, (4,4), input_shape=(256, 256, 3), activation='relu', padding='same'))\n",
        "    model.add(layers.MaxPool2D(pool_size=(2,2)))\n",
        "\n",
        "    ### Second Convolution & MaxPooling\n",
        "    # model.add(layers.Conv2D(16, (3,3), activation='relu', padding='same'))\n",
        "    # model.add(layers.MaxPool2D(pool_size=(2,2)))\n",
        "\n",
        "    ### Flattening\n",
        "    model.add(layers.Flatten())\n",
        "\n",
        "    ### One Fully Connected layer - \"Fully Connected\" is equivalent to saying \"Dense\"\n",
        "    model.add(layers.Dense(2, activation='relu'))\n",
        "\n",
        "    ### Last layer - Classification Layer with 10 outputs corresponding to 10 digits\n",
        "    model.add(layers.Dense(3, activation='softmax'))\n",
        "\n",
        "    ### Model compilation\n",
        "    model.compile(loss='categorical_crossentropy',\n",
        "                  optimizer='adam',\n",
        "                  metrics=['accuracy'])\n",
        "\n",
        "    return model"
      ]
    },
    {
      "cell_type": "markdown",
      "metadata": {
        "id": "j4UK9KyepEJO"
      },
      "source": [
        "# fit model with earlystopping"
      ]
    },
    {
      "cell_type": "code",
      "execution_count": 38,
      "metadata": {
        "id": "5_mNGcCCpBUN"
      },
      "outputs": [],
      "source": [
        "from tensorflow.keras.callbacks import EarlyStopping\n",
        "\n",
        "model_small = initialize_model()"
      ]
    },
    {
      "cell_type": "code",
      "execution_count": 39,
      "metadata": {},
      "outputs": [
        {
          "name": "stdout",
          "output_type": "stream",
          "text": [
            "Model: \"sequential\"\n",
            "_________________________________________________________________\n",
            " Layer (type)                Output Shape              Param #   \n",
            "=================================================================\n",
            " conv2d (Conv2D)             (None, 256, 256, 32)      1568      \n",
            "                                                                 \n",
            " max_pooling2d (MaxPooling2  (None, 128, 128, 32)      0         \n",
            " D)                                                              \n",
            "                                                                 \n",
            " flatten (Flatten)           (None, 524288)            0         \n",
            "                                                                 \n",
            " dense (Dense)               (None, 2)                 1048578   \n",
            "                                                                 \n",
            " dense_1 (Dense)             (None, 3)                 9         \n",
            "                                                                 \n",
            "=================================================================\n",
            "Total params: 1050155 (4.01 MB)\n",
            "Trainable params: 1050155 (4.01 MB)\n",
            "Non-trainable params: 0 (0.00 Byte)\n",
            "_________________________________________________________________\n"
          ]
        }
      ],
      "source": [
        "model_small.summary()"
      ]
    },
    {
      "cell_type": "code",
      "execution_count": 40,
      "metadata": {},
      "outputs": [
        {
          "name": "stdout",
          "output_type": "stream",
          "text": [
            "Epoch 1/100\n",
            "33/33 [==============================] - 20s 452ms/step - loss: 2.4078 - accuracy: 0.3953 - val_loss: 1.0974 - val_accuracy: 0.3829\n",
            "Epoch 2/100\n",
            "33/33 [==============================] - 15s 458ms/step - loss: 1.0954 - accuracy: 0.4102 - val_loss: 1.0954 - val_accuracy: 0.3829\n",
            "Epoch 3/100\n",
            "33/33 [==============================] - 13s 405ms/step - loss: 1.0932 - accuracy: 0.4102 - val_loss: 1.0940 - val_accuracy: 0.3829\n",
            "Epoch 4/100\n",
            "33/33 [==============================] - 15s 443ms/step - loss: 1.0914 - accuracy: 0.4102 - val_loss: 1.0926 - val_accuracy: 0.3829\n",
            "Epoch 5/100\n",
            "33/33 [==============================] - 16s 483ms/step - loss: 1.0897 - accuracy: 0.4102 - val_loss: 1.0915 - val_accuracy: 0.3829\n",
            "Epoch 6/100\n",
            "33/33 [==============================] - 15s 441ms/step - loss: 1.0884 - accuracy: 0.4102 - val_loss: 1.0907 - val_accuracy: 0.3829\n",
            "Epoch 7/100\n",
            "33/33 [==============================] - 14s 436ms/step - loss: 1.0873 - accuracy: 0.4102 - val_loss: 1.0900 - val_accuracy: 0.3829\n",
            "Epoch 8/100\n",
            "33/33 [==============================] - 14s 415ms/step - loss: 1.0866 - accuracy: 0.4102 - val_loss: 1.0896 - val_accuracy: 0.3829\n",
            "Epoch 9/100\n",
            "33/33 [==============================] - 14s 425ms/step - loss: 1.0859 - accuracy: 0.4102 - val_loss: 1.0893 - val_accuracy: 0.3829\n",
            "Epoch 10/100\n",
            "33/33 [==============================] - 14s 426ms/step - loss: 1.0855 - accuracy: 0.4102 - val_loss: 1.0892 - val_accuracy: 0.3829\n",
            "Epoch 11/100\n",
            "33/33 [==============================] - 13s 383ms/step - loss: 1.0851 - accuracy: 0.4102 - val_loss: 1.0891 - val_accuracy: 0.3829\n",
            "Epoch 12/100\n",
            "33/33 [==============================] - 12s 375ms/step - loss: 1.0848 - accuracy: 0.4102 - val_loss: 1.0890 - val_accuracy: 0.3829\n",
            "Epoch 13/100\n",
            "33/33 [==============================] - 12s 374ms/step - loss: 1.0846 - accuracy: 0.4102 - val_loss: 1.0890 - val_accuracy: 0.3829\n",
            "Epoch 14/100\n",
            "33/33 [==============================] - 14s 415ms/step - loss: 1.0845 - accuracy: 0.4102 - val_loss: 1.0892 - val_accuracy: 0.3829\n",
            "Epoch 15/100\n",
            "33/33 [==============================] - 14s 435ms/step - loss: 1.0843 - accuracy: 0.4102 - val_loss: 1.0891 - val_accuracy: 0.3829\n",
            "Epoch 16/100\n",
            "33/33 [==============================] - 13s 397ms/step - loss: 1.0842 - accuracy: 0.4102 - val_loss: 1.0890 - val_accuracy: 0.3829\n",
            "Epoch 17/100\n",
            "33/33 [==============================] - 14s 414ms/step - loss: 1.0842 - accuracy: 0.4102 - val_loss: 1.0892 - val_accuracy: 0.3829\n",
            "Epoch 17: early stopping\n"
          ]
        }
      ],
      "source": [
        "es = EarlyStopping(patience = 5, verbose = 2)\n",
        "\n",
        "history_small = model_small.fit(X_train, y_train,\n",
        "                    validation_split = 0.3,\n",
        "                    callbacks = [es],\n",
        "                    epochs = 100,\n",
        "                    batch_size = 64)"
      ]
    },
    {
      "cell_type": "markdown",
      "metadata": {},
      "source": [
        "## Plotting History"
      ]
    },
    {
      "cell_type": "code",
      "execution_count": 41,
      "metadata": {},
      "outputs": [],
      "source": [
        "def plot_history(history, title='', axs=None, exp_name=\"\"):\n",
        "    if axs is not None:\n",
        "        ax1, ax2 = axs\n",
        "    else:\n",
        "        f, (ax1, ax2) = plt.subplots(1, 2, figsize=(12, 4))\n",
        "\n",
        "    if len(exp_name) > 0 and exp_name[0] != '_':\n",
        "        exp_name = '_' + exp_name\n",
        "    ax1.plot(history.history['loss'], label = 'train' + exp_name)\n",
        "    ax1.plot(history.history['val_loss'], label = 'val' + exp_name)\n",
        "    ax1.set_ylim(0., 2.2)\n",
        "    ax1.set_title('loss')\n",
        "    ax1.legend()\n",
        "\n",
        "    ax2.plot(history.history['accuracy'], label='train accuracy'  + exp_name)\n",
        "    ax2.plot(history.history['val_accuracy'], label='val accuracy'  + exp_name)\n",
        "    ax2.set_ylim(0.25, 1.)\n",
        "    ax2.set_title('Accuracy')\n",
        "    ax2.legend()\n",
        "    return (ax1, ax2)"
      ]
    },
    {
      "cell_type": "code",
      "execution_count": 42,
      "metadata": {},
      "outputs": [
        {
          "data": {
            "image/png": "[encoded data removed]",
            "text/plain": [
              "<Figure size 1200x400 with 2 Axes>"
            ]
          },
          "metadata": {},
          "output_type": "display_data"
        }
      ],
      "source": [
        "plot_history(history_small)\n",
        "plt.show()"
      ]
    },
    {
      "cell_type": "code",
      "execution_count": 43,
      "metadata": {},
      "outputs": [
        {
          "data": {
            "text/plain": [
              "[1.0914268493652344, 0.3927125632762909]"
            ]
          },
          "execution_count": 43,
          "metadata": {},
          "output_type": "execute_result"
        }
      ],
      "source": [
        "res = model_small.evaluate(X_test, y_test, verbose = 0)\n",
        "res"
      ]
    },
    {
      "cell_type": "code",
      "execution_count": 49,
      "metadata": {},
      "outputs": [
        {
          "data": {
            "text/plain": [
              "(741, 256, 256, 3)"
            ]
          },
          "execution_count": 49,
          "metadata": {},
          "output_type": "execute_result"
        }
      ],
      "source": [
        "X_test.shape"
      ]
    },
    {
      "cell_type": "code",
      "execution_count": 59,
      "metadata": {},
      "outputs": [],
      "source": [
        "image_to_predict = np.expand_dims(X_test[0,:,:,:], axis=0)"
      ]
    },
    {
      "cell_type": "code",
      "execution_count": 60,
      "metadata": {},
      "outputs": [
        {
          "name": "stdout",
          "output_type": "stream",
          "text": [
            "1/1 [==============================] - 0s 112ms/step\n"
          ]
        },
        {
          "data": {
            "text/plain": [
              "array([[0.40394   , 0.27807263, 0.31798738]], dtype=float32)"
            ]
          },
          "execution_count": 60,
          "metadata": {},
          "output_type": "execute_result"
        }
      ],
      "source": [
        "model_small.predict(image_to_predict)"
      ]
    }
  ],
  "metadata": {
    "colab": {
      "provenance": []
    },
    "kernelspec": {
      "display_name": "Python 3",
      "name": "python3"
    },
    "language_info": {
      "codemirror_mode": {
        "name": "ipython",
        "version": 3
      },
      "file_extension": ".py",
      "mimetype": "text/x-python",
      "name": "python",
      "nbconvert_exporter": "python",
      "pygments_lexer": "ipython3",
      "version": "3.10.6"
    }
  },
  "nbformat": 4,
  "nbformat_minor": 0
}
