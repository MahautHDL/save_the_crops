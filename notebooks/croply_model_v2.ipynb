{
  "cells": [
    {
      "cell_type": "code",
      "execution_count": 1,
      "metadata": {},
      "outputs": [
        {
          "name": "stderr",
          "output_type": "stream",
          "text": [
            "2024-03-06 15:59:06.157643: I tensorflow/core/util/port.cc:113] oneDNN custom operations are on. You may see slightly different numerical results due to floating-point round-off errors from different computation orders. To turn them off, set the environment variable `TF_ENABLE_ONEDNN_OPTS=0`.\n",
            "2024-03-06 15:59:06.161028: I external/local_tsl/tsl/cuda/cudart_stub.cc:31] Could not find cuda drivers on your machine, GPU will not be used.\n",
            "2024-03-06 15:59:06.197977: E external/local_xla/xla/stream_executor/cuda/cuda_dnn.cc:9261] Unable to register cuDNN factory: Attempting to register factory for plugin cuDNN when one has already been registered\n",
            "2024-03-06 15:59:06.198016: E external/local_xla/xla/stream_executor/cuda/cuda_fft.cc:607] Unable to register cuFFT factory: Attempting to register factory for plugin cuFFT when one has already been registered\n",
            "2024-03-06 15:59:06.199283: E external/local_xla/xla/stream_executor/cuda/cuda_blas.cc:1515] Unable to register cuBLAS factory: Attempting to register factory for plugin cuBLAS when one has already been registered\n",
            "2024-03-06 15:59:06.206834: I external/local_tsl/tsl/cuda/cudart_stub.cc:31] Could not find cuda drivers on your machine, GPU will not be used.\n",
            "2024-03-06 15:59:06.208443: I tensorflow/core/platform/cpu_feature_guard.cc:182] This TensorFlow binary is optimized to use available CPU instructions in performance-critical operations.\n",
            "To enable the following instructions: AVX2 AVX512F AVX512_VNNI FMA, in other operations, rebuild TensorFlow with the appropriate compiler flags.\n",
            "2024-03-06 15:59:07.340975: W tensorflow/compiler/tf2tensorrt/utils/py_utils.cc:38] TF-TRT Warning: Could not find TensorRT\n"
          ]
        }
      ],
      "source": [
        "import matplotlib.pyplot as plt\n",
        "import os\n",
        "import matplotlib.pyplot as plt\n",
        "import numpy as np\n",
        "import pandas as pd\n",
        "from tensorflow.keras.preprocessing.image import ImageDataGenerator"
      ]
    },
    {
      "cell_type": "code",
      "execution_count": 2,
      "metadata": {},
      "outputs": [],
      "source": [
        "from crops_package.data import split_data"
      ]
    },
    {
      "cell_type": "markdown",
      "metadata": {},
      "source": []
    },
    {
      "cell_type": "code",
      "execution_count": 6,
      "metadata": {},
      "outputs": [],
      "source": [
        "data = pd.read_csv(f\"{os.environ.get('DATA_PATH')}/data.csv\")\n",
        "data['filename'] = os.environ.get(\"RAW_DATA_PATH\") + \"/\" + data['filename']\n",
        "data['class'] = data['class'].astype(str)"
      ]
    },
    {
      "cell_type": "code",
      "execution_count": 7,
      "metadata": {},
      "outputs": [],
      "source": [
        "train_df, val_df, test_df = split_data(data)"
      ]
    },
    {
      "cell_type": "code",
      "execution_count": 5,
      "metadata": {},
      "outputs": [
        {
          "data": {
            "text/plain": [
              "181"
            ]
          },
          "execution_count": 5,
          "metadata": {},
          "output_type": "execute_result"
        }
      ],
      "source": [
        "len(train_df)"
      ]
    },
    {
      "cell_type": "code",
      "execution_count": 6,
      "metadata": {},
      "outputs": [
        {
          "name": "stdout",
          "output_type": "stream",
          "text": [
            "Found 181 validated image filenames belonging to 22 classes.\n",
            "Found 32 validated image filenames belonging to 15 classes.\n"
          ]
        }
      ],
      "source": [
        "from crops_package.data import preprocessor_df\n",
        "train_generator = preprocessor_df(train_df)\n",
        "val_generator = preprocessor_df(val_df)"
      ]
    },
    {
      "cell_type": "markdown",
      "metadata": {},
      "source": []
    },
    {
      "cell_type": "markdown",
      "metadata": {},
      "source": [
        "# Model initialization"
      ]
    },
    {
      "cell_type": "code",
      "execution_count": 11,
      "metadata": {
        "id": "Me5rjBTyomy-"
      },
      "outputs": [],
      "source": [
        "from tensorflow.keras import layers\n",
        "from tensorflow.keras import models\n",
        "\n",
        "def initialize_model():\n",
        "    model = models.Sequential()\n",
        "\n",
        "    ### First Convolution & MaxPooling\n",
        "    model.add(layers.Conv2D(32, (4,4), input_shape=(224, 224, 3), activation='relu', padding='same'))\n",
        "    model.add(layers.MaxPool2D(pool_size=(2,2)))\n",
        "\n",
        "    ### Second Convolution & MaxPooling\n",
        "    # model.add(layers.Conv2D(16, (3,3), activation='relu', padding='same'))\n",
        "    # model.add(layers.MaxPool2D(pool_size=(2,2)))\n",
        "\n",
        "    ### Flattening\n",
        "    model.add(layers.Flatten())\n",
        "\n",
        "    ### One Fully Connected layer - \"Fully Connected\" is equivalent to saying \"Dense\"\n",
        "    model.add(layers.Dense(2, activation='relu'))\n",
        "\n",
        "    ### Last layer - Classification Layer with 10 outputs corresponding to 10 digits\n",
        "    model.add(layers.Dense(22, activation='softmax'))\n",
        "\n",
        "    ### Model compilation\n",
        "    model.compile(loss='categorical_crossentropy',\n",
        "                  optimizer='adam',\n",
        "                  metrics=['accuracy'])\n",
        "\n",
        "    return model"
      ]
    },
    {
      "cell_type": "markdown",
      "metadata": {
        "id": "j4UK9KyepEJO"
      },
      "source": [
        "# fit model with earlystopping"
      ]
    },
    {
      "cell_type": "code",
      "execution_count": 12,
      "metadata": {
        "id": "5_mNGcCCpBUN"
      },
      "outputs": [
        {
          "name": "stdout",
          "output_type": "stream",
          "text": [
            "Epoch 1/100\n",
            "6/6 [==============================] - ETA: 0s - loss: 3.7537 - accuracy: 0.0552"
          ]
        },
        {
          "ename": "InvalidArgumentError",
          "evalue": "Graph execution error:\n\nDetected at node categorical_crossentropy/softmax_cross_entropy_with_logits defined at (most recent call last):\n  File \"/home/mahaut/.pyenv/versions/3.10.6/lib/python3.10/runpy.py\", line 196, in _run_module_as_main\n\n  File \"/home/mahaut/.pyenv/versions/3.10.6/lib/python3.10/runpy.py\", line 86, in _run_code\n\n  File \"/home/mahaut/.pyenv/versions/3.10.6/envs/croply/lib/python3.10/site-packages/ipykernel_launcher.py\", line 17, in <module>\n\n  File \"/home/mahaut/.pyenv/versions/3.10.6/envs/croply/lib/python3.10/site-packages/traitlets/config/application.py\", line 1075, in launch_instance\n\n  File \"/home/mahaut/.pyenv/versions/3.10.6/envs/croply/lib/python3.10/site-packages/ipykernel/kernelapp.py\", line 724, in start\n\n  File \"/home/mahaut/.pyenv/versions/3.10.6/envs/croply/lib/python3.10/site-packages/tornado/platform/asyncio.py\", line 205, in start\n\n  File \"/home/mahaut/.pyenv/versions/3.10.6/lib/python3.10/asyncio/base_events.py\", line 600, in run_forever\n\n  File \"/home/mahaut/.pyenv/versions/3.10.6/lib/python3.10/asyncio/base_events.py\", line 1896, in _run_once\n\n  File \"/home/mahaut/.pyenv/versions/3.10.6/lib/python3.10/asyncio/events.py\", line 80, in _run\n\n  File \"/home/mahaut/.pyenv/versions/3.10.6/envs/croply/lib/python3.10/site-packages/ipykernel/kernelbase.py\", line 512, in dispatch_queue\n\n  File \"/home/mahaut/.pyenv/versions/3.10.6/envs/croply/lib/python3.10/site-packages/ipykernel/kernelbase.py\", line 501, in process_one\n\n  File \"/home/mahaut/.pyenv/versions/3.10.6/envs/croply/lib/python3.10/site-packages/ipykernel/kernelbase.py\", line 408, in dispatch_shell\n\n  File \"/home/mahaut/.pyenv/versions/3.10.6/envs/croply/lib/python3.10/site-packages/ipykernel/kernelbase.py\", line 731, in execute_request\n\n  File \"/home/mahaut/.pyenv/versions/3.10.6/envs/croply/lib/python3.10/site-packages/ipykernel/ipkernel.py\", line 417, in do_execute\n\n  File \"/home/mahaut/.pyenv/versions/3.10.6/envs/croply/lib/python3.10/site-packages/ipykernel/zmqshell.py\", line 540, in run_cell\n\n  File \"/home/mahaut/.pyenv/versions/3.10.6/envs/croply/lib/python3.10/site-packages/IPython/core/interactiveshell.py\", line 3075, in run_cell\n\n  File \"/home/mahaut/.pyenv/versions/3.10.6/envs/croply/lib/python3.10/site-packages/IPython/core/interactiveshell.py\", line 3130, in _run_cell\n\n  File \"/home/mahaut/.pyenv/versions/3.10.6/envs/croply/lib/python3.10/site-packages/IPython/core/async_helpers.py\", line 129, in _pseudo_sync_runner\n\n  File \"/home/mahaut/.pyenv/versions/3.10.6/envs/croply/lib/python3.10/site-packages/IPython/core/interactiveshell.py\", line 3334, in run_cell_async\n\n  File \"/home/mahaut/.pyenv/versions/3.10.6/envs/croply/lib/python3.10/site-packages/IPython/core/interactiveshell.py\", line 3517, in run_ast_nodes\n\n  File \"/home/mahaut/.pyenv/versions/3.10.6/envs/croply/lib/python3.10/site-packages/IPython/core/interactiveshell.py\", line 3577, in run_code\n\n  File \"/tmp/ipykernel_203170/644240427.py\", line 7, in <module>\n\n  File \"/home/mahaut/.pyenv/versions/3.10.6/envs/croply/lib/python3.10/site-packages/keras/src/utils/traceback_utils.py\", line 65, in error_handler\n\n  File \"/home/mahaut/.pyenv/versions/3.10.6/envs/croply/lib/python3.10/site-packages/keras/src/engine/training.py\", line 1856, in fit\n\n  File \"/home/mahaut/.pyenv/versions/3.10.6/envs/croply/lib/python3.10/site-packages/keras/src/utils/traceback_utils.py\", line 65, in error_handler\n\n  File \"/home/mahaut/.pyenv/versions/3.10.6/envs/croply/lib/python3.10/site-packages/keras/src/engine/training.py\", line 2296, in evaluate\n\n  File \"/home/mahaut/.pyenv/versions/3.10.6/envs/croply/lib/python3.10/site-packages/keras/src/engine/training.py\", line 4108, in run_step\n\n  File \"/home/mahaut/.pyenv/versions/3.10.6/envs/croply/lib/python3.10/site-packages/keras/src/engine/training.py\", line 2066, in test_function\n\n  File \"/home/mahaut/.pyenv/versions/3.10.6/envs/croply/lib/python3.10/site-packages/keras/src/engine/training.py\", line 2049, in step_function\n\n  File \"/home/mahaut/.pyenv/versions/3.10.6/envs/croply/lib/python3.10/site-packages/keras/src/engine/training.py\", line 2037, in run_step\n\n  File \"/home/mahaut/.pyenv/versions/3.10.6/envs/croply/lib/python3.10/site-packages/keras/src/engine/training.py\", line 1919, in test_step\n\n  File \"/home/mahaut/.pyenv/versions/3.10.6/envs/croply/lib/python3.10/site-packages/keras/src/engine/training.py\", line 1209, in compute_loss\n\n  File \"/home/mahaut/.pyenv/versions/3.10.6/envs/croply/lib/python3.10/site-packages/keras/src/engine/compile_utils.py\", line 277, in __call__\n\n  File \"/home/mahaut/.pyenv/versions/3.10.6/envs/croply/lib/python3.10/site-packages/keras/src/losses.py\", line 143, in __call__\n\n  File \"/home/mahaut/.pyenv/versions/3.10.6/envs/croply/lib/python3.10/site-packages/keras/src/losses.py\", line 270, in call\n\n  File \"/home/mahaut/.pyenv/versions/3.10.6/envs/croply/lib/python3.10/site-packages/keras/src/losses.py\", line 2221, in categorical_crossentropy\n\n  File \"/home/mahaut/.pyenv/versions/3.10.6/envs/croply/lib/python3.10/site-packages/keras/src/backend.py\", line 5579, in categorical_crossentropy\n\nlogits and labels must be broadcastable: logits_size=[32,22] labels_size=[32,15]\n\t [[{{node categorical_crossentropy/softmax_cross_entropy_with_logits}}]] [Op:__inference_test_function_3685]",
          "output_type": "error",
          "traceback": [
            "\u001b[0;31m---------------------------------------------------------------------------\u001b[0m",
            "\u001b[0;31mInvalidArgumentError\u001b[0m                      Traceback (most recent call last)",
            "Cell \u001b[0;32mIn[12], line 7\u001b[0m\n\u001b[1;32m      3\u001b[0m model_small \u001b[38;5;241m=\u001b[39m initialize_model()\n\u001b[1;32m      5\u001b[0m es \u001b[38;5;241m=\u001b[39m EarlyStopping(patience \u001b[38;5;241m=\u001b[39m \u001b[38;5;241m5\u001b[39m, verbose \u001b[38;5;241m=\u001b[39m \u001b[38;5;241m2\u001b[39m)\n\u001b[0;32m----> 7\u001b[0m history_small \u001b[38;5;241m=\u001b[39m \u001b[43mmodel_small\u001b[49m\u001b[38;5;241;43m.\u001b[39;49m\u001b[43mfit\u001b[49m\u001b[43m(\u001b[49m\u001b[43mtrain_generator\u001b[49m\u001b[43m,\u001b[49m\n\u001b[1;32m      8\u001b[0m \u001b[43m                    \u001b[49m\u001b[43mvalidation_data\u001b[49m\u001b[43m \u001b[49m\u001b[38;5;241;43m=\u001b[39;49m\u001b[43m \u001b[49m\u001b[43mval_generator\u001b[49m\u001b[43m,\u001b[49m\n\u001b[1;32m      9\u001b[0m \u001b[43m                    \u001b[49m\u001b[43mcallbacks\u001b[49m\u001b[43m \u001b[49m\u001b[38;5;241;43m=\u001b[39;49m\u001b[43m \u001b[49m\u001b[43m[\u001b[49m\u001b[43mes\u001b[49m\u001b[43m]\u001b[49m\u001b[43m,\u001b[49m\n\u001b[1;32m     10\u001b[0m \u001b[43m                    \u001b[49m\u001b[43mepochs\u001b[49m\u001b[43m \u001b[49m\u001b[38;5;241;43m=\u001b[39;49m\u001b[43m \u001b[49m\u001b[38;5;241;43m100\u001b[39;49m\u001b[43m,\u001b[49m\n\u001b[1;32m     11\u001b[0m \u001b[43m                    \u001b[49m\u001b[43mbatch_size\u001b[49m\u001b[43m \u001b[49m\u001b[38;5;241;43m=\u001b[39;49m\u001b[43m \u001b[49m\u001b[38;5;241;43m64\u001b[39;49m\u001b[43m)\u001b[49m\n",
            "File \u001b[0;32m~/.pyenv/versions/3.10.6/envs/croply/lib/python3.10/site-packages/keras/src/utils/traceback_utils.py:70\u001b[0m, in \u001b[0;36mfilter_traceback.<locals>.error_handler\u001b[0;34m(*args, **kwargs)\u001b[0m\n\u001b[1;32m     67\u001b[0m     filtered_tb \u001b[38;5;241m=\u001b[39m _process_traceback_frames(e\u001b[38;5;241m.\u001b[39m__traceback__)\n\u001b[1;32m     68\u001b[0m     \u001b[38;5;66;03m# To get the full stack trace, call:\u001b[39;00m\n\u001b[1;32m     69\u001b[0m     \u001b[38;5;66;03m# `tf.debugging.disable_traceback_filtering()`\u001b[39;00m\n\u001b[0;32m---> 70\u001b[0m     \u001b[38;5;28;01mraise\u001b[39;00m e\u001b[38;5;241m.\u001b[39mwith_traceback(filtered_tb) \u001b[38;5;28;01mfrom\u001b[39;00m \u001b[38;5;28;01mNone\u001b[39;00m\n\u001b[1;32m     71\u001b[0m \u001b[38;5;28;01mfinally\u001b[39;00m:\n\u001b[1;32m     72\u001b[0m     \u001b[38;5;28;01mdel\u001b[39;00m filtered_tb\n",
            "File \u001b[0;32m~/.pyenv/versions/3.10.6/envs/croply/lib/python3.10/site-packages/tensorflow/python/eager/execute.py:53\u001b[0m, in \u001b[0;36mquick_execute\u001b[0;34m(op_name, num_outputs, inputs, attrs, ctx, name)\u001b[0m\n\u001b[1;32m     51\u001b[0m \u001b[38;5;28;01mtry\u001b[39;00m:\n\u001b[1;32m     52\u001b[0m   ctx\u001b[38;5;241m.\u001b[39mensure_initialized()\n\u001b[0;32m---> 53\u001b[0m   tensors \u001b[38;5;241m=\u001b[39m pywrap_tfe\u001b[38;5;241m.\u001b[39mTFE_Py_Execute(ctx\u001b[38;5;241m.\u001b[39m_handle, device_name, op_name,\n\u001b[1;32m     54\u001b[0m                                       inputs, attrs, num_outputs)\n\u001b[1;32m     55\u001b[0m \u001b[38;5;28;01mexcept\u001b[39;00m core\u001b[38;5;241m.\u001b[39m_NotOkStatusException \u001b[38;5;28;01mas\u001b[39;00m e:\n\u001b[1;32m     56\u001b[0m   \u001b[38;5;28;01mif\u001b[39;00m name \u001b[38;5;129;01mis\u001b[39;00m \u001b[38;5;129;01mnot\u001b[39;00m \u001b[38;5;28;01mNone\u001b[39;00m:\n",
            "\u001b[0;31mInvalidArgumentError\u001b[0m: Graph execution error:\n\nDetected at node categorical_crossentropy/softmax_cross_entropy_with_logits defined at (most recent call last):\n  File \"/home/mahaut/.pyenv/versions/3.10.6/lib/python3.10/runpy.py\", line 196, in _run_module_as_main\n\n  File \"/home/mahaut/.pyenv/versions/3.10.6/lib/python3.10/runpy.py\", line 86, in _run_code\n\n  File \"/home/mahaut/.pyenv/versions/3.10.6/envs/croply/lib/python3.10/site-packages/ipykernel_launcher.py\", line 17, in <module>\n\n  File \"/home/mahaut/.pyenv/versions/3.10.6/envs/croply/lib/python3.10/site-packages/traitlets/config/application.py\", line 1075, in launch_instance\n\n  File \"/home/mahaut/.pyenv/versions/3.10.6/envs/croply/lib/python3.10/site-packages/ipykernel/kernelapp.py\", line 724, in start\n\n  File \"/home/mahaut/.pyenv/versions/3.10.6/envs/croply/lib/python3.10/site-packages/tornado/platform/asyncio.py\", line 205, in start\n\n  File \"/home/mahaut/.pyenv/versions/3.10.6/lib/python3.10/asyncio/base_events.py\", line 600, in run_forever\n\n  File \"/home/mahaut/.pyenv/versions/3.10.6/lib/python3.10/asyncio/base_events.py\", line 1896, in _run_once\n\n  File \"/home/mahaut/.pyenv/versions/3.10.6/lib/python3.10/asyncio/events.py\", line 80, in _run\n\n  File \"/home/mahaut/.pyenv/versions/3.10.6/envs/croply/lib/python3.10/site-packages/ipykernel/kernelbase.py\", line 512, in dispatch_queue\n\n  File \"/home/mahaut/.pyenv/versions/3.10.6/envs/croply/lib/python3.10/site-packages/ipykernel/kernelbase.py\", line 501, in process_one\n\n  File \"/home/mahaut/.pyenv/versions/3.10.6/envs/croply/lib/python3.10/site-packages/ipykernel/kernelbase.py\", line 408, in dispatch_shell\n\n  File \"/home/mahaut/.pyenv/versions/3.10.6/envs/croply/lib/python3.10/site-packages/ipykernel/kernelbase.py\", line 731, in execute_request\n\n  File \"/home/mahaut/.pyenv/versions/3.10.6/envs/croply/lib/python3.10/site-packages/ipykernel/ipkernel.py\", line 417, in do_execute\n\n  File \"/home/mahaut/.pyenv/versions/3.10.6/envs/croply/lib/python3.10/site-packages/ipykernel/zmqshell.py\", line 540, in run_cell\n\n  File \"/home/mahaut/.pyenv/versions/3.10.6/envs/croply/lib/python3.10/site-packages/IPython/core/interactiveshell.py\", line 3075, in run_cell\n\n  File \"/home/mahaut/.pyenv/versions/3.10.6/envs/croply/lib/python3.10/site-packages/IPython/core/interactiveshell.py\", line 3130, in _run_cell\n\n  File \"/home/mahaut/.pyenv/versions/3.10.6/envs/croply/lib/python3.10/site-packages/IPython/core/async_helpers.py\", line 129, in _pseudo_sync_runner\n\n  File \"/home/mahaut/.pyenv/versions/3.10.6/envs/croply/lib/python3.10/site-packages/IPython/core/interactiveshell.py\", line 3334, in run_cell_async\n\n  File \"/home/mahaut/.pyenv/versions/3.10.6/envs/croply/lib/python3.10/site-packages/IPython/core/interactiveshell.py\", line 3517, in run_ast_nodes\n\n  File \"/home/mahaut/.pyenv/versions/3.10.6/envs/croply/lib/python3.10/site-packages/IPython/core/interactiveshell.py\", line 3577, in run_code\n\n  File \"/tmp/ipykernel_203170/644240427.py\", line 7, in <module>\n\n  File \"/home/mahaut/.pyenv/versions/3.10.6/envs/croply/lib/python3.10/site-packages/keras/src/utils/traceback_utils.py\", line 65, in error_handler\n\n  File \"/home/mahaut/.pyenv/versions/3.10.6/envs/croply/lib/python3.10/site-packages/keras/src/engine/training.py\", line 1856, in fit\n\n  File \"/home/mahaut/.pyenv/versions/3.10.6/envs/croply/lib/python3.10/site-packages/keras/src/utils/traceback_utils.py\", line 65, in error_handler\n\n  File \"/home/mahaut/.pyenv/versions/3.10.6/envs/croply/lib/python3.10/site-packages/keras/src/engine/training.py\", line 2296, in evaluate\n\n  File \"/home/mahaut/.pyenv/versions/3.10.6/envs/croply/lib/python3.10/site-packages/keras/src/engine/training.py\", line 4108, in run_step\n\n  File \"/home/mahaut/.pyenv/versions/3.10.6/envs/croply/lib/python3.10/site-packages/keras/src/engine/training.py\", line 2066, in test_function\n\n  File \"/home/mahaut/.pyenv/versions/3.10.6/envs/croply/lib/python3.10/site-packages/keras/src/engine/training.py\", line 2049, in step_function\n\n  File \"/home/mahaut/.pyenv/versions/3.10.6/envs/croply/lib/python3.10/site-packages/keras/src/engine/training.py\", line 2037, in run_step\n\n  File \"/home/mahaut/.pyenv/versions/3.10.6/envs/croply/lib/python3.10/site-packages/keras/src/engine/training.py\", line 1919, in test_step\n\n  File \"/home/mahaut/.pyenv/versions/3.10.6/envs/croply/lib/python3.10/site-packages/keras/src/engine/training.py\", line 1209, in compute_loss\n\n  File \"/home/mahaut/.pyenv/versions/3.10.6/envs/croply/lib/python3.10/site-packages/keras/src/engine/compile_utils.py\", line 277, in __call__\n\n  File \"/home/mahaut/.pyenv/versions/3.10.6/envs/croply/lib/python3.10/site-packages/keras/src/losses.py\", line 143, in __call__\n\n  File \"/home/mahaut/.pyenv/versions/3.10.6/envs/croply/lib/python3.10/site-packages/keras/src/losses.py\", line 270, in call\n\n  File \"/home/mahaut/.pyenv/versions/3.10.6/envs/croply/lib/python3.10/site-packages/keras/src/losses.py\", line 2221, in categorical_crossentropy\n\n  File \"/home/mahaut/.pyenv/versions/3.10.6/envs/croply/lib/python3.10/site-packages/keras/src/backend.py\", line 5579, in categorical_crossentropy\n\nlogits and labels must be broadcastable: logits_size=[32,22] labels_size=[32,15]\n\t [[{{node categorical_crossentropy/softmax_cross_entropy_with_logits}}]] [Op:__inference_test_function_3685]"
          ]
        }
      ],
      "source": [
        "from tensorflow.keras.callbacks import EarlyStopping\n",
        "\n",
        "model_small = initialize_model()\n",
        "\n",
        "es = EarlyStopping(patience = 5, verbose = 2)\n",
        "\n",
        "history_small = model_small.fit(train_generator,\n",
        "                    validation_data = val_generator,\n",
        "                    callbacks = [es],\n",
        "                    epochs = 100,\n",
        "                    batch_size = 64)"
      ]
    },
    {
      "cell_type": "code",
      "execution_count": 24,
      "metadata": {},
      "outputs": [
        {
          "name": "stdout",
          "output_type": "stream",
          "text": [
            "Model: \"sequential_6\"\n",
            "_________________________________________________________________\n",
            " Layer (type)                Output Shape              Param #   \n",
            "=================================================================\n",
            " conv2d_6 (Conv2D)           (None, 224, 224, 32)      1568      \n",
            "                                                                 \n",
            " max_pooling2d (MaxPooling2  (None, 112, 112, 32)      0         \n",
            " D)                                                              \n",
            "                                                                 \n",
            " flatten_6 (Flatten)         (None, 401408)            0         \n",
            "                                                                 \n",
            " dense_12 (Dense)            (None, 2)                 802818    \n",
            "                                                                 \n",
            " dense_13 (Dense)            (None, 22)                66        \n",
            "                                                                 \n",
            "=================================================================\n",
            "Total params: 804452 (3.07 MB)\n",
            "Trainable params: 804452 (3.07 MB)\n",
            "Non-trainable params: 0 (0.00 Byte)\n",
            "_________________________________________________________________\n"
          ]
        }
      ],
      "source": [
        "model_small.summary()"
      ]
    },
    {
      "cell_type": "markdown",
      "metadata": {},
      "source": [
        "## Plotting History"
      ]
    },
    {
      "cell_type": "code",
      "execution_count": 27,
      "metadata": {},
      "outputs": [],
      "source": [
        "def plot_history(history, title='', axs=None, exp_name=\"\"):\n",
        "    if axs is not None:\n",
        "        ax1, ax2 = axs\n",
        "    else:\n",
        "        f, (ax1, ax2) = plt.subplots(1, 2, figsize=(12, 4))\n",
        "\n",
        "    if len(exp_name) > 0 and exp_name[0] != '_':\n",
        "        exp_name = '_' + exp_name\n",
        "    ax1.plot(history.history['loss'], label = 'train' + exp_name)\n",
        "    ax1.plot(history.history['val_loss'], label = 'val' + exp_name)\n",
        "    ax1.set_ylim(0., 2.2)\n",
        "    ax1.set_title('loss')\n",
        "    ax1.legend()\n",
        "\n",
        "    ax2.plot(history.history['accuracy'], label='train accuracy'  + exp_name)\n",
        "    ax2.plot(history.history['val_accuracy'], label='val accuracy'  + exp_name)\n",
        "    ax2.set_ylim(0.25, 1.)\n",
        "    ax2.set_title('Accuracy')\n",
        "    ax2.legend()\n",
        "    return (ax1, ax2)"
      ]
    },
    {
      "cell_type": "code",
      "execution_count": 28,
      "metadata": {},
      "outputs": [
        {
          "ename": "NameError",
          "evalue": "name 'history_small' is not defined",
          "output_type": "error",
          "traceback": [
            "\u001b[0;31m---------------------------------------------------------------------------\u001b[0m",
            "\u001b[0;31mNameError\u001b[0m                                 Traceback (most recent call last)",
            "Cell \u001b[0;32mIn[28], line 1\u001b[0m\n\u001b[0;32m----> 1\u001b[0m plot_history(\u001b[43mhistory_small\u001b[49m)\n\u001b[1;32m      2\u001b[0m plt\u001b[38;5;241m.\u001b[39mshow()\n",
            "\u001b[0;31mNameError\u001b[0m: name 'history_small' is not defined"
          ]
        }
      ],
      "source": [
        "plot_history(history_small)\n",
        "plt.show()"
      ]
    },
    {
      "cell_type": "code",
      "execution_count": null,
      "metadata": {},
      "outputs": [],
      "source": [
        "res = model_small.evaluate(X_test_small, y_test_small, verbose = 0)\n",
        "res"
      ]
    }
  ],
  "metadata": {
    "colab": {
      "provenance": []
    },
    "kernelspec": {
      "display_name": "Python 3",
      "name": "python3"
    },
    "language_info": {
      "codemirror_mode": {
        "name": "ipython",
        "version": 3
      },
      "file_extension": ".py",
      "mimetype": "text/x-python",
      "name": "python",
      "nbconvert_exporter": "python",
      "pygments_lexer": "ipython3",
      "version": "3.10.6"
    }
  },
  "nbformat": 4,
  "nbformat_minor": 0
}
