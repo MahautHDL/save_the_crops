{
  "cells": [
    {
      "cell_type": "code",
      "execution_count": 5,
      "metadata": {},
      "outputs": [],
      "source": [
        "%load_ext autoreload\n",
        "%autoreload 2\n"
      ]
    },
    {
      "cell_type": "markdown",
      "metadata": {
        "id": "j4UK9KyepEJO"
      },
      "source": [
        "# fit model with earlystopping and callbacks"
      ]
    },
    {
      "cell_type": "markdown",
      "metadata": {},
      "source": [
        "Both cells need to come instead of the model.fit. The initialize_model()-name and the model_name should be the same: this is necessary to be able to know which callbacks are from which results.\n",
        "Important: create a map 'callbacks' before you start "
      ]
    },
    {
      "cell_type": "code",
      "execution_count": 58,
      "metadata": {},
      "outputs": [
        {
          "name": "stdout",
          "output_type": "stream",
          "text": [
            "Saving TensorBoard log files to: /home/wouter/code/MahautHDL/save_the_crops/callbacks/test-20240307-125342\n",
            "57/57 [==============================] - 42s 722ms/step - loss: 3.0835 - accuracy: 0.1029 - val_loss: 3.0766 - val_accuracy: 0.0997\n"
          ]
        },
        {
          "data": {
            "text/plain": [
              "<keras.src.callbacks.History at 0x7fd0bfa259c0>"
            ]
          },
          "execution_count": 58,
          "metadata": {},
          "output_type": "execute_result"
        }
      ],
      "source": [
        "from tensorflow.keras.callbacks import EarlyStopping\n",
        "from crops_package.model import fit_model\n",
        "from PIL import Image, ImageFile\n",
        "ImageFile.LOAD_TRUNCATED_IMAGES = True\n",
        "\n",
        "%load_ext tensorboard\n",
        "from tensorboard import notebook\n",
        "\n",
        "test = initialize_model()\n",
        "\n",
        "model_name = \"test\"\n",
        "\n",
        "fit_model(test, train_generator, val_generator, model_name, split=0.3, epochs=1)"
      ]
    },
    {
      "cell_type": "code",
      "execution_count": 59,
      "metadata": {},
      "outputs": [
        {
          "data": {
            "text/plain": [
              "Reusing TensorBoard on port 6013 (pid 94579), started 0:15:05 ago. (Use '!kill 94579' to kill it.)"
            ]
          },
          "metadata": {},
          "output_type": "display_data"
        },
        {
          "data": {
            "text/html": [
              "\n",
              "      <iframe id=\"tensorboard-frame-a5b5b1056d65bbcb\" width=\"100%\" height=\"800\" frameborder=\"0\">\n",
              "      </iframe>\n",
              "      <script>\n",
              "        (function() {\n",
              "          const frame = document.getElementById(\"tensorboard-frame-a5b5b1056d65bbcb\");\n",
              "          const url = new URL(\"http://localhost\");\n",
              "          const port = 6013;\n",
              "          if (port) {\n",
              "            url.port = port;\n",
              "          }\n",
              "          frame.src = url;\n",
              "        })();\n",
              "      </script>\n",
              "    "
            ],
            "text/plain": [
              "<IPython.core.display.HTML object>"
            ]
          },
          "metadata": {},
          "output_type": "display_data"
        },
        {
          "name": "stdout",
          "output_type": "stream",
          "text": [
            "Known TensorBoard instances:\n",
            "  - port 6008: logdir dir_name=os.environ.get(CALLBACK_PATH) (started 1:24:00 ago; pid 60915)\n",
            "  - port 6008: logdir f/home/wouter/code/MahautHDL/save_the_crops/callbacks/fourth_test (started 0:49:03 ago; pid 80502)\n",
            "  - port 6013: logdir ../callbacks (started 0:15:05 ago; pid 94579)\n",
            "  - port 6006: logdir tensorboard_path (started 0:55:10 ago; pid 77762)\n",
            "  - port 6010: logdir ../callbacks/fourth_test (started 0:27:14 ago; pid 89494)\n",
            "  - port 6011: logdir f{CALLBACK_PATH}/{model_name} (started 1:12:43 ago; pid 66105)\n",
            "  - port 6012: logdir /home/wouter/code/MahautHDL/save_the_crops/callbacks (started 0:21:10 ago; pid 92122)\n",
            "  - port 6011: logdir f../callbacks/fourth_test (started 0:24:41 ago; pid 90666)\n",
            "  - port 6009: logdir ./callbacks/fourth_test (started 0:29:43 ago; pid 88379)\n",
            "  - port 6006: logdir logs (started 1:45:35 ago; pid 51454)\n",
            "  - port 6007: logdir ./callbacks/ (started 1:37:13 ago; pid 55138)\n",
            "  - port 6009: logdir os.environ.get(CALLBACK_PATH) (started 1:17:52 ago; pid 63752)\n",
            "  - port 6010: logdir /home/wouter/code/MahautHDL/save_the_crops/callbacks/third_test (started 1:16:57 ago; pid 64262)\n",
            "  - port 6007: logdir /home/wouter/code/MahautHDL/save_the_crops/callbacks/fourth_test (started 0:52:52 ago; pid 78744)\n"
          ]
        }
      ],
      "source": [
        "%tensorboard --logdir ../callbacks\n",
        "notebook.list() # View open TensorBoard instances\n"
      ]
    }
  ],
  "metadata": {
    "colab": {
      "provenance": []
    },
    "kernelspec": {
      "display_name": "Python 3",
      "name": "python3"
    },
    "language_info": {
      "codemirror_mode": {
        "name": "ipython",
        "version": 3
      },
      "file_extension": ".py",
      "mimetype": "text/x-python",
      "name": "python",
      "nbconvert_exporter": "python",
      "pygments_lexer": "ipython3",
      "version": "3.10.6"
    }
  },
  "nbformat": 4,
  "nbformat_minor": 0
}
