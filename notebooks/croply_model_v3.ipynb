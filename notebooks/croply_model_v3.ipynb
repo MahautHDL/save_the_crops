{
  "cells": [
    {
      "cell_type": "code",
      "execution_count": 1,
      "metadata": {},
      "outputs": [],
      "source": [
        "%load_ext autoreload\n",
        "%autoreload 2\n"
      ]
    },
    {
      "cell_type": "code",
      "execution_count": 2,
      "metadata": {},
      "outputs": [
        {
          "name": "stderr",
          "output_type": "stream",
          "text": [
            "2024-03-07 10:28:17.395914: I tensorflow/core/util/port.cc:113] oneDNN custom operations are on. You may see slightly different numerical results due to floating-point round-off errors from different computation orders. To turn them off, set the environment variable `TF_ENABLE_ONEDNN_OPTS=0`.\n",
            "2024-03-07 10:28:17.446070: I external/local_tsl/tsl/cuda/cudart_stub.cc:31] Could not find cuda drivers on your machine, GPU will not be used.\n",
            "2024-03-07 10:28:17.692748: E external/local_xla/xla/stream_executor/cuda/cuda_dnn.cc:9261] Unable to register cuDNN factory: Attempting to register factory for plugin cuDNN when one has already been registered\n",
            "2024-03-07 10:28:17.692790: E external/local_xla/xla/stream_executor/cuda/cuda_fft.cc:607] Unable to register cuFFT factory: Attempting to register factory for plugin cuFFT when one has already been registered\n",
            "2024-03-07 10:28:17.738782: E external/local_xla/xla/stream_executor/cuda/cuda_blas.cc:1515] Unable to register cuBLAS factory: Attempting to register factory for plugin cuBLAS when one has already been registered\n",
            "2024-03-07 10:28:17.836194: I external/local_tsl/tsl/cuda/cudart_stub.cc:31] Could not find cuda drivers on your machine, GPU will not be used.\n",
            "2024-03-07 10:28:17.838269: I tensorflow/core/platform/cpu_feature_guard.cc:182] This TensorFlow binary is optimized to use available CPU instructions in performance-critical operations.\n",
            "To enable the following instructions: AVX2 AVX512F AVX512_VNNI FMA, in other operations, rebuild TensorFlow with the appropriate compiler flags.\n",
            "2024-03-07 10:28:19.450736: W tensorflow/compiler/tf2tensorrt/utils/py_utils.cc:38] TF-TRT Warning: Could not find TensorRT\n"
          ]
        }
      ],
      "source": [
        "import matplotlib.pyplot as plt\n",
        "import os\n",
        "import matplotlib.pyplot as plt\n",
        "import numpy as np\n",
        "import pandas as pd\n",
        "from tensorflow.keras.preprocessing.image import ImageDataGenerator"
      ]
    },
    {
      "cell_type": "code",
      "execution_count": 3,
      "metadata": {},
      "outputs": [],
      "source": [
        "from crops_package.data import split_data"
      ]
    },
    {
      "cell_type": "code",
      "execution_count": 4,
      "metadata": {},
      "outputs": [],
      "source": [
        "data = pd.read_csv(f\"{os.environ.get('DATA_PATH')}data.csv\")\n",
        "data['filename'] = os.environ.get(\"LOCAL_PATH\") + data['filename']\n",
        "data['class'] = data['class'].astype(str)"
      ]
    },
    {
      "cell_type": "code",
      "execution_count": 5,
      "metadata": {},
      "outputs": [],
      "source": [
        "train_df, val_df, test_df = split_data(data, size_to_throw=0.9)"
      ]
    },
    {
      "cell_type": "code",
      "execution_count": 6,
      "metadata": {},
      "outputs": [
        {
          "data": {
            "text/plain": [
              "1814"
            ]
          },
          "execution_count": 6,
          "metadata": {},
          "output_type": "execute_result"
        }
      ],
      "source": [
        "len(train_df)"
      ]
    },
    {
      "cell_type": "code",
      "execution_count": 7,
      "metadata": {},
      "outputs": [
        {
          "name": "stdout",
          "output_type": "stream",
          "text": [
            "Found 1814 validated image filenames belonging to 22 classes.\n",
            "Found 321 validated image filenames belonging to 22 classes.\n"
          ]
        }
      ],
      "source": [
        "from crops_package.data import preprocessor_df\n",
        "train_generator = preprocessor_df(train_df)\n",
        "val_generator = preprocessor_df(val_df)"
      ]
    },
    {
      "cell_type": "markdown",
      "metadata": {},
      "source": [
        "# Model initialization"
      ]
    },
    {
      "cell_type": "code",
      "execution_count": 8,
      "metadata": {
        "id": "Me5rjBTyomy-"
      },
      "outputs": [],
      "source": [
        "from tensorflow.keras import layers\n",
        "from tensorflow.keras import models\n",
        "\n",
        "def initialize_model():\n",
        "    model = models.Sequential()\n",
        "\n",
        "    ### First Convolution & MaxPooling\n",
        "    model.add(layers.Conv2D(32, (4,4), input_shape=(224, 224, 3), activation='relu', padding='same'))\n",
        "    model.add(layers.MaxPool2D(pool_size=(2,2)))\n",
        "\n",
        "    ### Second Convolution & MaxPooling\n",
        "    # model.add(layers.Conv2D(16, (3,3), activation='relu', padding='same'))\n",
        "    # model.add(layers.MaxPool2D(pool_size=(2,2)))\n",
        "\n",
        "    ### Flattening\n",
        "    model.add(layers.Flatten())\n",
        "\n",
        "    ### One Fully Connected layer - \"Fully Connected\" is equivalent to saying \"Dense\"\n",
        "    model.add(layers.Dense(2, activation='relu'))\n",
        "\n",
        "    ### Last layer - Classification Layer with 10 outputs corresponding to 10 digits\n",
        "    model.add(layers.Dense(22, activation='softmax'))\n",
        "\n",
        "    ### Model compilation\n",
        "    model.compile(loss='categorical_crossentropy',\n",
        "                  optimizer='adam',\n",
        "                  metrics=['accuracy'])\n",
        "\n",
        "    return model"
      ]
    },
    {
      "cell_type": "markdown",
      "metadata": {
        "id": "j4UK9KyepEJO"
      },
      "source": [
        "# fit model with earlystopping"
      ]
    },
    {
      "cell_type": "code",
      "execution_count": 9,
      "metadata": {
        "id": "5_mNGcCCpBUN"
      },
      "outputs": [
        {
          "name": "stdout",
          "output_type": "stream",
          "text": [
            "Epoch 1/3\n",
            "57/57 [==============================] - 24s 417ms/step - loss: 3.0839 - accuracy: 0.0937 - val_loss: 3.0770 - val_accuracy: 0.1433\n",
            "Epoch 2/3\n",
            "57/57 [==============================] - 20s 352ms/step - loss: 3.0698 - accuracy: 0.1064 - val_loss: 3.0642 - val_accuracy: 0.1433\n",
            "Epoch 3/3\n",
            "57/57 [==============================] - 20s 359ms/step - loss: 3.0568 - accuracy: 0.1064 - val_loss: 3.0527 - val_accuracy: 0.1433\n"
          ]
        }
      ],
      "source": [
        "from tensorflow.keras.callbacks import EarlyStopping\n",
        "\n",
        "model_small = initialize_model()\n",
        "\n",
        "es = EarlyStopping(patience = 5, verbose = 2)\n",
        "\n",
        "history_small = model_small.fit(train_generator,\n",
        "                    validation_data = val_generator,\n",
        "                    callbacks = [es],\n",
        "                    epochs = 3,\n",
        "                    batch_size = 64)"
      ]
    },
    {
      "cell_type": "code",
      "execution_count": 10,
      "metadata": {},
      "outputs": [
        {
          "name": "stdout",
          "output_type": "stream",
          "text": [
            "Model: \"sequential\"\n",
            "_________________________________________________________________\n",
            " Layer (type)                Output Shape              Param #   \n",
            "=================================================================\n",
            " conv2d (Conv2D)             (None, 224, 224, 32)      1568      \n",
            "                                                                 \n",
            " max_pooling2d (MaxPooling2  (None, 112, 112, 32)      0         \n",
            " D)                                                              \n",
            "                                                                 \n",
            " flatten (Flatten)           (None, 401408)            0         \n",
            "                                                                 \n",
            " dense (Dense)               (None, 2)                 802818    \n",
            "                                                                 \n",
            " dense_1 (Dense)             (None, 22)                66        \n",
            "                                                                 \n",
            "=================================================================\n",
            "Total params: 804452 (3.07 MB)\n",
            "Trainable params: 804452 (3.07 MB)\n",
            "Non-trainable params: 0 (0.00 Byte)\n",
            "_________________________________________________________________\n"
          ]
        }
      ],
      "source": [
        "model_small.summary()"
      ]
    },
    {
      "cell_type": "markdown",
      "metadata": {},
      "source": [
        "## Plotting History"
      ]
    },
    {
      "cell_type": "code",
      "execution_count": 11,
      "metadata": {},
      "outputs": [],
      "source": [
        "def plot_history(history, title='', axs=None, exp_name=\"\"):\n",
        "    if axs is not None:\n",
        "        ax1, ax2 = axs\n",
        "    else:\n",
        "        f, (ax1, ax2) = plt.subplots(1, 2, figsize=(12, 4))\n",
        "\n",
        "    if len(exp_name) > 0 and exp_name[0] != '_':\n",
        "        exp_name = '_' + exp_name\n",
        "    ax1.plot(history.history['loss'], label = 'train' + exp_name)\n",
        "    ax1.plot(history.history['val_loss'], label = 'val' + exp_name)\n",
        "    ax1.set_ylim(0., 2.2)\n",
        "    ax1.set_title('loss')\n",
        "    ax1.legend()\n",
        "\n",
        "    ax2.plot(history.history['accuracy'], label='train accuracy'  + exp_name)\n",
        "    ax2.plot(history.history['val_accuracy'], label='val accuracy'  + exp_name)\n",
        "    ax2.set_ylim(0.25, 1.)\n",
        "    ax2.set_title('Accuracy')\n",
        "    ax2.legend()\n",
        "    return (ax1, ax2)"
      ]
    },
    {
      "cell_type": "code",
      "execution_count": 12,
      "metadata": {},
      "outputs": [
        {
          "data": {
            "image/png": "[encoded data removed]",
            "text/plain": [
              "<Figure size 1200x400 with 2 Axes>"
            ]
          },
          "metadata": {},
          "output_type": "display_data"
        }
      ],
      "source": [
        "plot_history(history_small)\n",
        "plt.show()"
      ]
    },
    {
      "cell_type": "markdown",
      "metadata": {},
      "source": [
        "## EVALUATING"
      ]
    },
    {
      "cell_type": "code",
      "execution_count": 13,
      "metadata": {},
      "outputs": [],
      "source": [
        "from crops_package.data import preprocessor_test"
      ]
    },
    {
      "cell_type": "code",
      "execution_count": 14,
      "metadata": {},
      "outputs": [
        {
          "name": "stdout",
          "output_type": "stream",
          "text": [
            "Found 377 validated image filenames belonging to 22 classes.\n"
          ]
        }
      ],
      "source": [
        "test_generator = preprocessor_test(test_df)"
      ]
    },
    {
      "cell_type": "code",
      "execution_count": 15,
      "metadata": {},
      "outputs": [
        {
          "data": {
            "text/plain": [
              "[3.0576109886169434, 0.07957559823989868]"
            ]
          },
          "execution_count": 15,
          "metadata": {},
          "output_type": "execute_result"
        }
      ],
      "source": [
        "res = model_small.evaluate(test_generator, verbose = 0)\n",
        "res\n"
      ]
    },
    {
      "cell_type": "markdown",
      "metadata": {},
      "source": [
        "## PREDICTIONS"
      ]
    },
    {
      "cell_type": "code",
      "execution_count": 67,
      "metadata": {},
      "outputs": [],
      "source": [
        "index = 0\n",
        "filepath = list(test_df['filename'])[index]\n",
        "filename = list(test_df['class'])[index]"
      ]
    },
    {
      "cell_type": "code",
      "execution_count": null,
      "metadata": {},
      "outputs": [],
      "source": [
        "img = plt.imread(filepath)\n",
        "\n",
        "plt.imshow(img)\n",
        "plt.axis(False)\n",
        "plt.title(plant_disease_name)\n",
        "plt.show()\n",
        "print(img.shape)\n",
        "print(data_link)\n",
        "print(crops)"
      ]
    },
    {
      "cell_type": "code",
      "execution_count": 68,
      "metadata": {},
      "outputs": [],
      "source": [
        "from crops_package.data import prepocessor_img\n",
        "img_processed = prepocessor_img(filepath)"
      ]
    },
    {
      "cell_type": "code",
      "execution_count": 69,
      "metadata": {},
      "outputs": [
        {
          "name": "stdout",
          "output_type": "stream",
          "text": [
            "1/1 [==============================] - 0s 26ms/step\n"
          ]
        }
      ],
      "source": [
        "predictions = model_small.predict(img_processed)"
      ]
    },
    {
      "cell_type": "code",
      "execution_count": 70,
      "metadata": {},
      "outputs": [
        {
          "data": {
            "text/plain": [
              "['Cashew anthracnose',\n",
              " 'Cashew gumosis',\n",
              " 'Cashew healthy',\n",
              " 'Cashew leaf miner',\n",
              " 'Cashew red rust',\n",
              " 'Cassava bacterial blight',\n",
              " 'Cassava brown spot',\n",
              " 'Cassava green mite',\n",
              " 'Cassava healthy',\n",
              " 'Cassava mosaic',\n",
              " 'Maize fall armyworm',\n",
              " 'Maize grasshoper',\n",
              " 'Maize healthy',\n",
              " 'Maize leaf beetle',\n",
              " 'Maize leaf blight',\n",
              " 'Maize leaf spot',\n",
              " 'Maize streak virus',\n",
              " 'Tomato healthy',\n",
              " 'Tomato leaf blight',\n",
              " 'Tomato leaf curl',\n",
              " 'Tomato septoria leaf spot',\n",
              " 'Tomato verticulium wilt']"
            ]
          },
          "execution_count": 70,
          "metadata": {},
          "output_type": "execute_result"
        }
      ],
      "source": [
        "class_names = list(train_generator.class_indices.keys())\n",
        "class_names\n"
      ]
    },
    {
      "cell_type": "code",
      "execution_count": 71,
      "metadata": {},
      "outputs": [
        {
          "name": "stdout",
          "output_type": "stream",
          "text": [
            "Tomato septoria leaf spot - 5.21%\n"
          ]
        }
      ],
      "source": [
        "print(f\"{class_names[np.argmax(predictions)]} - {np.max(predictions)* 100:.2f}%\")"
      ]
    },
    {
      "cell_type": "code",
      "execution_count": 72,
      "metadata": {},
      "outputs": [],
      "source": [
        "external_path=\"https://res.cloudinary.com/compo-com/image/fetch/c_fill,g_xy_center,f_auto,w_708,h_531,x_iw_mul_50_div_100,y_ih_mul_42_div_100/https://www.compo.de/dam/jcr:0f172ae7-9fb3-4fd2-be8b-810d3582da05/sweet-corn_Maiskolben.jpg\"\n",
        "img2_processed = prepocessor_img(external_path)"
      ]
    },
    {
      "cell_type": "code",
      "execution_count": 73,
      "metadata": {},
      "outputs": [
        {
          "name": "stdout",
          "output_type": "stream",
          "text": [
            "1/1 [==============================] - 0s 37ms/step\n"
          ]
        },
        {
          "data": {
            "text/plain": [
              "array([[0.05047547, 0.0409847 , 0.04653547, 0.04872178, 0.04955043,\n",
              "        0.05176306, 0.04728018, 0.04323137, 0.0464432 , 0.04619545,\n",
              "        0.04010019, 0.04249613, 0.03959728, 0.04544985, 0.04268042,\n",
              "        0.04710782, 0.04398467, 0.04091262, 0.04918309, 0.04170329,\n",
              "        0.05211484, 0.04348872]], dtype=float32)"
            ]
          },
          "execution_count": 73,
          "metadata": {},
          "output_type": "execute_result"
        }
      ],
      "source": [
        "predictions2 = model_small.predict(img2_processed)\n",
        "predictions2"
      ]
    },
    {
      "cell_type": "code",
      "execution_count": 74,
      "metadata": {},
      "outputs": [
        {
          "name": "stdout",
          "output_type": "stream",
          "text": [
            "Tomato septoria leaf spot - 5.21%\n"
          ]
        }
      ],
      "source": [
        "print(f\"{class_names[np.argmax(predictions2)]} - {np.max(predictions2)* 100:.2f}%\")"
      ]
    }
  ],
  "metadata": {
    "colab": {
      "provenance": []
    },
    "kernelspec": {
      "display_name": "Python 3",
      "name": "python3"
    },
    "language_info": {
      "codemirror_mode": {
        "name": "ipython",
        "version": 3
      },
      "file_extension": ".py",
      "mimetype": "text/x-python",
      "name": "python",
      "nbconvert_exporter": "python",
      "pygments_lexer": "ipython3",
      "version": "3.10.6"
    }
  },
  "nbformat": 4,
  "nbformat_minor": 0
}
